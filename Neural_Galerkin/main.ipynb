{
 "cells": [
  {
   "cell_type": "code",
   "execution_count": 2,
   "metadata": {},
   "outputs": [],
   "source": [
    "# RSNG for Linear advection with a Gaussian bump\n",
    "import jax\n",
    "import jax.numpy as jnp\n",
    "from jax import random, grad, jit, vmap\n",
    "from flax import linen as nn\n",
    "import optax"
   ]
  },
  {
   "cell_type": "code",
   "execution_count": 11,
   "metadata": {},
   "outputs": [],
   "source": [
    "# Set up the linear \n",
    "def advection_eq(u,x,t,c):\n",
    "    du_dt= -c*jax.grad(u,x)\n",
    "    return du_dt\n",
    "\n",
    "x = jnp.linspace(-2.0,2.0, 101)\n",
    "t = jnp.linspace(0, 3, 50)\n",
    "c = 1.0 #constat speed"
   ]
  },
  {
   "cell_type": "code",
   "execution_count": null,
   "metadata": {},
   "outputs": [],
   "source": [
    "class PDEApproximator(nn.Module):\n",
    "    @nn.compact\n",
    "    def __call__(self, x):\n",
    "        x = nn.Dense(32)(x)\n",
    "        x = nn.relu(x)\n",
    "        x = nn.Dense(32)(x)\n",
    "        x = nn.relu(x)\n",
    "        x = nn.Dense(32)(x)\n",
    "        x = nn.relu(x)\n",
    "        x = nn.Dense(1)(x)\n",
    "        return x\n",
    "\n",
    "# Initialize the neural network\n",
    "rng = jax.random.PRNGKey(0)\n",
    "rng, init_rng = jax.random.split(rng)\n",
    "input_shape = (1, 101)  # Assuming input vectors are 16-dimensional\n",
    "model = PDEApproximator()\n",
    "params = model.init(init_rng, jnp.ones(input_shape))['params']"
   ]
  },
  {
   "cell_type": "code",
   "execution_count": null,
   "metadata": {},
   "outputs": [],
   "source": [
    "# Copied from JB's code\n",
    "\n",
    "# High Speed Settings\n",
    "\n",
    "n_x = 1000 # number of sample points in sapce\n",
    "sub_sample = 100 # number of paramters to randomly sample\n",
    "dt = 1e-3 # time step for rk4 integrator\n",
    "\n",
    "\n",
    "# High Accuracy Settings \n",
    "# n_x = 10_000  # number of sample points in sapce\n",
    "# sub_sample = 800  # number of paramters to randomly sample\n",
    "# dt = 1e-3  # time step for rk4 integrator"
   ]
  },
  {
   "cell_type": "code",
   "execution_count": null,
   "metadata": {},
   "outputs": [],
   "source": []
  },
  {
   "cell_type": "code",
   "execution_count": null,
   "metadata": {},
   "outputs": [],
   "source": []
  },
  {
   "cell_type": "code",
   "execution_count": 11,
   "metadata": {},
   "outputs": [],
   "source": [
    "# Similarly define forward euler integrator\n",
    "def odeint_euler(fn, y0, t, key):\n",
    "    def euler(carry, t):\n",
    "        y, t_prev, key = carry\n",
    "        h = t - t_prev\n",
    "        key, subkey = jax.random.split(key)\n",
    "        y = y + h * fn(t_prev, y, subkey)\n",
    "        return (y, t, key), y\n",
    "\n",
    "    (yf, _, _), y = jax.lax.scan(euler, (y0, jnp.array(t[0]), key), t)\n",
    "    return y"
   ]
  }
 ],
 "metadata": {
  "kernelspec": {
   "display_name": "Python 3",
   "language": "python",
   "name": "python3"
  },
  "language_info": {
   "codemirror_mode": {
    "name": "ipython",
    "version": 3
   },
   "file_extension": ".py",
   "mimetype": "text/x-python",
   "name": "python",
   "nbconvert_exporter": "python",
   "pygments_lexer": "ipython3",
   "version": "3.11.4"
  }
 },
 "nbformat": 4,
 "nbformat_minor": 2
}
